{
 "cells": [
  {
   "cell_type": "markdown",
   "metadata": {},
   "source": [
    "#  Decision Trees"
   ]
  },
  {
   "cell_type": "code",
   "execution_count": 1,
   "metadata": {},
   "outputs": [],
   "source": [
    "# Initial imports\n",
    "%matplotlib inline\n",
    "from matplotlib import pyplot as plt\n",
    "import pandas as pd\n",
    "import numpy as np\n",
    "from sklearn.ensemble import RandomForestRegressor\n",
    "from sklearn.preprocessing import StandardScaler\n",
    "from sklearn.model_selection import train_test_split\n",
    "from sklearn.metrics import confusion_matrix, accuracy_score, classification_report"
   ]
  },
  {
   "cell_type": "markdown",
   "metadata": {},
   "source": [
    "## Loading and Preprocessing Loans Encoded Data"
   ]
  },
  {
   "cell_type": "code",
   "execution_count": 2,
   "metadata": {},
   "outputs": [
    {
     "data": {
      "text/html": [
       "<div>\n",
       "<style scoped>\n",
       "    .dataframe tbody tr th:only-of-type {\n",
       "        vertical-align: middle;\n",
       "    }\n",
       "\n",
       "    .dataframe tbody tr th {\n",
       "        vertical-align: top;\n",
       "    }\n",
       "\n",
       "    .dataframe thead th {\n",
       "        text-align: right;\n",
       "    }\n",
       "</style>\n",
       "<table border=\"1\" class=\"dataframe\">\n",
       "  <thead>\n",
       "    <tr style=\"text-align: right;\">\n",
       "      <th></th>\n",
       "      <th>county</th>\n",
       "      <th>year</th>\n",
       "      <th>number_sales</th>\n",
       "      <th>sales_percentage</th>\n",
       "      <th>population</th>\n",
       "      <th>pop_percentage</th>\n",
       "      <th>county_count</th>\n",
       "      <th>state_count</th>\n",
       "      <th>total_incentives</th>\n",
       "      <th>county_max</th>\n",
       "      <th>state_max</th>\n",
       "      <th>total_max</th>\n",
       "    </tr>\n",
       "  </thead>\n",
       "  <tbody>\n",
       "    <tr>\n",
       "      <th>0</th>\n",
       "      <td>Alameda</td>\n",
       "      <td>2015</td>\n",
       "      <td>5536</td>\n",
       "      <td>8.65</td>\n",
       "      <td>1630159</td>\n",
       "      <td>4.19</td>\n",
       "      <td>0</td>\n",
       "      <td>6</td>\n",
       "      <td>6</td>\n",
       "      <td>0</td>\n",
       "      <td>25500</td>\n",
       "      <td>25500</td>\n",
       "    </tr>\n",
       "    <tr>\n",
       "      <th>1</th>\n",
       "      <td>Alameda</td>\n",
       "      <td>2016</td>\n",
       "      <td>5327</td>\n",
       "      <td>7.35</td>\n",
       "      <td>1647332</td>\n",
       "      <td>4.21</td>\n",
       "      <td>0</td>\n",
       "      <td>6</td>\n",
       "      <td>6</td>\n",
       "      <td>0</td>\n",
       "      <td>25500</td>\n",
       "      <td>25500</td>\n",
       "    </tr>\n",
       "    <tr>\n",
       "      <th>2</th>\n",
       "      <td>Alameda</td>\n",
       "      <td>2017</td>\n",
       "      <td>7056</td>\n",
       "      <td>7.61</td>\n",
       "      <td>1659750</td>\n",
       "      <td>4.22</td>\n",
       "      <td>0</td>\n",
       "      <td>6</td>\n",
       "      <td>6</td>\n",
       "      <td>0</td>\n",
       "      <td>25500</td>\n",
       "      <td>25500</td>\n",
       "    </tr>\n",
       "    <tr>\n",
       "      <th>3</th>\n",
       "      <td>Alameda</td>\n",
       "      <td>2018</td>\n",
       "      <td>12578</td>\n",
       "      <td>8.12</td>\n",
       "      <td>1669659</td>\n",
       "      <td>4.23</td>\n",
       "      <td>2</td>\n",
       "      <td>6</td>\n",
       "      <td>8</td>\n",
       "      <td>5800</td>\n",
       "      <td>25500</td>\n",
       "      <td>31300</td>\n",
       "    </tr>\n",
       "    <tr>\n",
       "      <th>4</th>\n",
       "      <td>Alameda</td>\n",
       "      <td>2019</td>\n",
       "      <td>11781</td>\n",
       "      <td>8.05</td>\n",
       "      <td>1678926</td>\n",
       "      <td>4.25</td>\n",
       "      <td>4</td>\n",
       "      <td>6</td>\n",
       "      <td>10</td>\n",
       "      <td>15307</td>\n",
       "      <td>25500</td>\n",
       "      <td>40807</td>\n",
       "    </tr>\n",
       "  </tbody>\n",
       "</table>\n",
       "</div>"
      ],
      "text/plain": [
       "    county  year  number_sales  sales_percentage  population  pop_percentage  \\\n",
       "0  Alameda  2015          5536              8.65     1630159            4.19   \n",
       "1  Alameda  2016          5327              7.35     1647332            4.21   \n",
       "2  Alameda  2017          7056              7.61     1659750            4.22   \n",
       "3  Alameda  2018         12578              8.12     1669659            4.23   \n",
       "4  Alameda  2019         11781              8.05     1678926            4.25   \n",
       "\n",
       "   county_count  state_count  total_incentives  county_max  state_max  \\\n",
       "0             0            6                 6           0      25500   \n",
       "1             0            6                 6           0      25500   \n",
       "2             0            6                 6           0      25500   \n",
       "3             2            6                 8        5800      25500   \n",
       "4             4            6                10       15307      25500   \n",
       "\n",
       "   total_max  \n",
       "0      25500  \n",
       "1      25500  \n",
       "2      25500  \n",
       "3      31300  \n",
       "4      40807  "
      ]
     },
     "execution_count": 2,
     "metadata": {},
     "output_type": "execute_result"
    }
   ],
   "source": [
    "# Loading data\n",
    "file_path = \"C:/Users/VivoBook/Desktop/Classwork/capstoneproject-2022/Database/county_year_merged.csv\"\n",
    "county_year_merged = pd.read_csv(file_path)\n",
    "county_year_merged.head()"
   ]
  },
  {
   "cell_type": "code",
   "execution_count": 3,
   "metadata": {},
   "outputs": [],
   "source": [
    "county_year_merged = county_year_merged.drop(columns=[\"county\", \"sales_percentage\"])"
   ]
  },
  {
   "cell_type": "code",
   "execution_count": 4,
   "metadata": {},
   "outputs": [],
   "source": [
    "# Define features set\n",
    "X = county_year_merged.drop(\"number_sales\", axis=1)\n",
    "y = county_year_merged[\"number_sales\"]"
   ]
  },
  {
   "cell_type": "code",
   "execution_count": 5,
   "metadata": {},
   "outputs": [],
   "source": [
    "# Split into Train and Test sets, StandardScaler()\n",
    "X_train, X_test, y_train, y_test = train_test_split(X, y, random_state=75, train_size=0.80)\n",
    "scaler = StandardScaler().fit(X_train)\n",
    "X_train_scaled = scaler.transform(X_train)\n",
    "X_test_scaled = scaler.transform(X_test)"
   ]
  },
  {
   "cell_type": "code",
   "execution_count": 6,
   "metadata": {},
   "outputs": [
    {
     "name": "stdout",
     "output_type": "stream",
     "text": [
      "(361, 9)\n",
      "(91, 9)\n",
      "(361,)\n",
      "(91,)\n"
     ]
    }
   ],
   "source": [
    "print(X_train.shape)\n",
    "print(X_test.shape)\n",
    "print(y_train.shape)\n",
    "print(y_test.shape)"
   ]
  },
  {
   "cell_type": "markdown",
   "metadata": {},
   "source": [
    "## Fitting the Random Forest Model"
   ]
  },
  {
   "cell_type": "code",
   "execution_count": 7,
   "metadata": {},
   "outputs": [],
   "source": [
    "# Create and fit the random forest regressor instance\n",
    "rf_model = RandomForestRegressor(random_state=75, n_estimators=500).fit(X_train_scaled, y_train)"
   ]
  },
  {
   "cell_type": "markdown",
   "metadata": {},
   "source": [
    "## Making Predictions Using the Data"
   ]
  },
  {
   "cell_type": "code",
   "execution_count": 8,
   "metadata": {
    "scrolled": true
   },
   "outputs": [
    {
     "name": "stdout",
     "output_type": "stream",
     "text": [
      "Training Data Score: 0.9696653740513151\n",
      "Testing Data Score: 0.7723729630163212\n"
     ]
    }
   ],
   "source": [
    "# Making predictions using the testing data\n",
    "y_pred = rf_model.predict(X_test_scaled)\n",
    "print(f\"Training Data Score: {rf_model.score(X_train_scaled, y_train)}\")\n",
    "print(f\"Testing Data Score: {rf_model.score(X_test_scaled, y_test)}\")"
   ]
  },
  {
   "cell_type": "markdown",
   "metadata": {},
   "source": [
    "## Rank Importance of Features"
   ]
  },
  {
   "cell_type": "code",
   "execution_count": 9,
   "metadata": {},
   "outputs": [
    {
     "data": {
      "text/plain": [
       "array([0.01535658, 0.18106889, 0.12960892, 0.15291496, 0.00551814,\n",
       "       0.1634756 , 0.3173362 , 0.0066303 , 0.02809041])"
      ]
     },
     "execution_count": 9,
     "metadata": {},
     "output_type": "execute_result"
    }
   ],
   "source": [
    "# Calculate feature importance in the Random Forest model.\n",
    "feature_importances = rf_model.feature_importances_\n",
    "feature_importances"
   ]
  },
  {
   "cell_type": "code",
   "execution_count": 10,
   "metadata": {},
   "outputs": [
    {
     "data": {
      "image/png": "[encoded data removed]",
      "text/plain": [
       "<Figure size 720x720 with 1 Axes>"
      ]
     },
     "metadata": {
      "needs_background": "light"
     },
     "output_type": "display_data"
    }
   ],
   "source": [
    "# Use the following code to plot the most important features\n",
    "features = sorted(zip(X.columns, feature_importances), key = lambda x: x[1])\n",
    "cols = [f[0] for f in features]\n",
    "width = [f[1] for f in features]\n",
    "\n",
    "fig, ax = plt.subplots()\n",
    "\n",
    "fig.set_size_inches(10,10)\n",
    "plt.margins(y=0.001)\n",
    "\n",
    "ax.barh(y=cols[-10:], width=width[-10:])\n",
    "\n",
    "plt.show()"
   ]
  },
  {
   "cell_type": "markdown",
   "metadata": {},
   "source": [
    "# Visualize regression results"
   ]
  },
  {
   "cell_type": "code",
   "execution_count": 11,
   "metadata": {},
   "outputs": [
    {
     "data": {
      "image/png": "[encoded data removed]",
      "text/plain": [
       "<Figure size 432x288 with 1 Axes>"
      ]
     },
     "metadata": {
      "needs_background": "light"
     },
     "output_type": "display_data"
    }
   ],
   "source": [
    "# Visualize model’s predictions for county_max\n",
    "# Real values = red, predicted = green\n",
    "# Code found here: https://cnvrg.io/random-forest-regression/\n",
    "plt.scatter(X_test['county_max'].values, y_test, color = 'red')\n",
    "plt.scatter(X_test['county_max'].values, y_pred, color = 'green')\n",
    "plt.title('Random Forest Regression')\n",
    "plt.xlabel('County Max Amount')\n",
    "plt.ylabel('EV Sales')\n",
    "plt.show() "
   ]
  },
  {
   "cell_type": "code",
   "execution_count": 12,
   "metadata": {},
   "outputs": [
    {
     "data": {
      "image/png": "[encoded data removed]",
      "text/plain": [
       "<Figure size 432x288 with 1 Axes>"
      ]
     },
     "metadata": {
      "needs_background": "light"
     },
     "output_type": "display_data"
    }
   ],
   "source": [
    "# Visualize model’s predictions for population\n",
    "# Real values = red, predicted = green\n",
    "plt.scatter(X_test['population'].values, y_test, color = 'red')\n",
    "plt.scatter(X_test['population'].values, y_pred, color = 'green')\n",
    "plt.title('Random Forest Regression')\n",
    "plt.xlabel('Population')\n",
    "plt.ylabel('EV Sales')\n",
    "plt.show() "
   ]
  },
  {
   "cell_type": "code",
   "execution_count": 13,
   "metadata": {},
   "outputs": [
    {
     "data": {
      "image/png": "[encoded data removed]",
      "text/plain": [
       "<Figure size 432x288 with 1 Axes>"
      ]
     },
     "metadata": {
      "needs_background": "light"
     },
     "output_type": "display_data"
    }
   ],
   "source": [
    "# Visualize model’s predictions for total_incentives\n",
    "# Real values = red, predicted = green\n",
    "plt.scatter(X_test['total_incentives'].values, y_test, color = 'red')\n",
    "plt.scatter(X_test['total_incentives'].values, y_pred, color = 'green')\n",
    "plt.title('Random Forest Regression')\n",
    "plt.xlabel('Total Incentives')\n",
    "plt.ylabel('EV Sales')\n",
    "plt.show() "
   ]
  },
  {
   "cell_type": "markdown",
   "metadata": {},
   "source": [
    "# Gradient Booster Regression"
   ]
  },
  {
   "cell_type": "code",
   "execution_count": 14,
   "metadata": {},
   "outputs": [
    {
     "name": "stdout",
     "output_type": "stream",
     "text": [
      "predict output for GradientBoostingRegressor: learning_rate=0.1, n_estimators=100\n",
      "The mean squared error (MSE) on test set: 21254423.6944\n",
      "Accuracy on training set: 0.971\n",
      "Accuracy on test set: 0.749\n",
      "==============================================\n",
      "predict output for GradientBoostingRegressor: learning_rate=0.1, n_estimators=250\n",
      "The mean squared error (MSE) on test set: 18264944.8958\n",
      "Accuracy on training set: 0.996\n",
      "Accuracy on test set: 0.784\n",
      "==============================================\n",
      "predict output for GradientBoostingRegressor: learning_rate=0.1, n_estimators=500\n",
      "The mean squared error (MSE) on test set: 18870891.7095\n",
      "Accuracy on training set: 1.000\n",
      "Accuracy on test set: 0.777\n",
      "==============================================\n",
      "predict output for GradientBoostingRegressor: learning_rate=0.1, n_estimators=750\n",
      "The mean squared error (MSE) on test set: 18109560.5458\n",
      "Accuracy on training set: 1.000\n",
      "Accuracy on test set: 0.786\n",
      "==============================================\n",
      "predict output for GradientBoostingRegressor: learning_rate=0.01, n_estimators=100\n",
      "The mean squared error (MSE) on test set: 43625904.9312\n",
      "Accuracy on training set: 0.607\n",
      "Accuracy on test set: 0.485\n",
      "==============================================\n",
      "predict output for GradientBoostingRegressor: learning_rate=0.01, n_estimators=250\n",
      "The mean squared error (MSE) on test set: 27506834.4247\n",
      "Accuracy on training set: 0.786\n",
      "Accuracy on test set: 0.675\n",
      "==============================================\n",
      "predict output for GradientBoostingRegressor: learning_rate=0.01, n_estimators=500\n",
      "The mean squared error (MSE) on test set: 23204690.5420\n",
      "Accuracy on training set: 0.880\n",
      "Accuracy on test set: 0.726\n",
      "==============================================\n",
      "predict output for GradientBoostingRegressor: learning_rate=0.01, n_estimators=750\n",
      "The mean squared error (MSE) on test set: 22128209.7020\n",
      "Accuracy on training set: 0.943\n",
      "Accuracy on test set: 0.739\n",
      "==============================================\n",
      "predict output for GradientBoostingRegressor: learning_rate=0.001, n_estimators=100\n",
      "The mean squared error (MSE) on test set: 78624615.2044\n",
      "Accuracy on training set: 0.124\n",
      "Accuracy on test set: 0.072\n",
      "==============================================\n",
      "predict output for GradientBoostingRegressor: learning_rate=0.001, n_estimators=250\n",
      "The mean squared error (MSE) on test set: 69711649.8411\n",
      "Accuracy on training set: 0.269\n",
      "Accuracy on test set: 0.177\n",
      "==============================================\n",
      "predict output for GradientBoostingRegressor: learning_rate=0.001, n_estimators=500\n",
      "The mean squared error (MSE) on test set: 58739577.5885\n",
      "Accuracy on training set: 0.432\n",
      "Accuracy on test set: 0.306\n",
      "==============================================\n",
      "predict output for GradientBoostingRegressor: learning_rate=0.001, n_estimators=750\n",
      "The mean squared error (MSE) on test set: 50908646.9358\n",
      "Accuracy on training set: 0.535\n",
      "Accuracy on test set: 0.399\n",
      "==============================================\n"
     ]
    }
   ],
   "source": [
    "# Try for better results based off stacked predictors\n",
    "from sklearn.ensemble import GradientBoostingRegressor\n",
    "from sklearn.metrics import mean_squared_error\n",
    "for i in [0.1, 0.01, 0.001]:\n",
    "    for j in [100, 250, 500, 750]:\n",
    "        gbr = GradientBoostingRegressor(learning_rate=i, n_estimators=j)\n",
    "        gbr = gbr.fit(X_train_scaled, y_train)\n",
    "        print(\"predict output for GradientBoostingRegressor: learning_rate={}, n_estimators={}\".format(i, j))\n",
    "        mse = mean_squared_error(y_test, gbr.predict(X_test_scaled))\n",
    "        print(\"The mean squared error (MSE) on test set: {:.4f}\".format(mse))\n",
    "\n",
    "        pred2 = gbr.predict(X_test_scaled)\n",
    "        print(\"Accuracy on training set: %.3f\" % gbr.score(X_train_scaled, y_train))\n",
    "        print(\"Accuracy on test set: %.3f\" % gbr.score(X_test_scaled, y_test))\n",
    "        print(\"==============================================\")"
   ]
  },
  {
   "cell_type": "code",
   "execution_count": 15,
   "metadata": {},
   "outputs": [
    {
     "data": {
      "text/html": [
       "<div>\n",
       "<style scoped>\n",
       "    .dataframe tbody tr th:only-of-type {\n",
       "        vertical-align: middle;\n",
       "    }\n",
       "\n",
       "    .dataframe tbody tr th {\n",
       "        vertical-align: top;\n",
       "    }\n",
       "\n",
       "    .dataframe thead th {\n",
       "        text-align: right;\n",
       "    }\n",
       "</style>\n",
       "<table border=\"1\" class=\"dataframe\">\n",
       "  <thead>\n",
       "    <tr style=\"text-align: right;\">\n",
       "      <th></th>\n",
       "      <th>year</th>\n",
       "      <th>population</th>\n",
       "      <th>pop_percentage</th>\n",
       "      <th>county_count</th>\n",
       "      <th>state_count</th>\n",
       "      <th>total_incentives</th>\n",
       "      <th>county_max</th>\n",
       "      <th>state_max</th>\n",
       "      <th>total_max</th>\n",
       "      <th>number_sales</th>\n",
       "    </tr>\n",
       "  </thead>\n",
       "  <tbody>\n",
       "    <tr>\n",
       "      <th>416</th>\n",
       "      <td>2019</td>\n",
       "      <td>65312</td>\n",
       "      <td>0.17</td>\n",
       "      <td>8</td>\n",
       "      <td>6</td>\n",
       "      <td>14</td>\n",
       "      <td>9500</td>\n",
       "      <td>25500</td>\n",
       "      <td>35000</td>\n",
       "      <td>1697.278099</td>\n",
       "    </tr>\n",
       "    <tr>\n",
       "      <th>434</th>\n",
       "      <td>2021</td>\n",
       "      <td>474998</td>\n",
       "      <td>1.21</td>\n",
       "      <td>2</td>\n",
       "      <td>9</td>\n",
       "      <td>11</td>\n",
       "      <td>3000</td>\n",
       "      <td>27000</td>\n",
       "      <td>30000</td>\n",
       "      <td>1697.278099</td>\n",
       "    </tr>\n",
       "    <tr>\n",
       "      <th>140</th>\n",
       "      <td>2021</td>\n",
       "      <td>31377</td>\n",
       "      <td>0.08</td>\n",
       "      <td>2</td>\n",
       "      <td>9</td>\n",
       "      <td>11</td>\n",
       "      <td>500</td>\n",
       "      <td>27000</td>\n",
       "      <td>27500</td>\n",
       "      <td>1506.423671</td>\n",
       "    </tr>\n",
       "    <tr>\n",
       "      <th>118</th>\n",
       "      <td>2015</td>\n",
       "      <td>148525</td>\n",
       "      <td>0.38</td>\n",
       "      <td>0</td>\n",
       "      <td>6</td>\n",
       "      <td>6</td>\n",
       "      <td>0</td>\n",
       "      <td>25500</td>\n",
       "      <td>25500</td>\n",
       "      <td>1532.278457</td>\n",
       "    </tr>\n",
       "    <tr>\n",
       "      <th>285</th>\n",
       "      <td>2020</td>\n",
       "      <td>64110</td>\n",
       "      <td>0.16</td>\n",
       "      <td>0</td>\n",
       "      <td>9</td>\n",
       "      <td>9</td>\n",
       "      <td>0</td>\n",
       "      <td>27000</td>\n",
       "      <td>27000</td>\n",
       "      <td>1532.278457</td>\n",
       "    </tr>\n",
       "  </tbody>\n",
       "</table>\n",
       "</div>"
      ],
      "text/plain": [
       "     year  population  pop_percentage  county_count  state_count  \\\n",
       "416  2019       65312            0.17             8            6   \n",
       "434  2021      474998            1.21             2            9   \n",
       "140  2021       31377            0.08             2            9   \n",
       "118  2015      148525            0.38             0            6   \n",
       "285  2020       64110            0.16             0            9   \n",
       "\n",
       "     total_incentives  county_max  state_max  total_max  number_sales  \n",
       "416                14        9500      25500      35000   1697.278099  \n",
       "434                11        3000      27000      30000   1697.278099  \n",
       "140                11         500      27000      27500   1506.423671  \n",
       "118                 6           0      25500      25500   1532.278457  \n",
       "285                 9           0      27000      27000   1532.278457  "
      ]
     },
     "execution_count": 15,
     "metadata": {},
     "output_type": "execute_result"
    }
   ],
   "source": [
    "# Check best results in dataframe\n",
    "X_test.loc[:, ['number_sales']] = pred2\n",
    "X_test.head()"
   ]
  },
  {
   "cell_type": "code",
   "execution_count": 16,
   "metadata": {},
   "outputs": [
    {
     "name": "stdout",
     "output_type": "stream",
     "text": [
      "predict output for GradientBoostingRegressor: learning_rate=0.001, n_estimators=750\n",
      "The mean squared error (MSE) on test set: 17931043.9282\n",
      "The best accuracy on training set: 1.000\n",
      "The best accuracy on test set: 0.788\n"
     ]
    }
   ],
   "source": [
    "# Testing parameters that give best results\n",
    "gbt = GradientBoostingRegressor(learning_rate=0.1, n_estimators=750)\n",
    "\n",
    "gbt = gbt.fit(X_train_scaled, y_train)\n",
    "print(\"predict output for GradientBoostingRegressor: learning_rate={}, n_estimators={}\".format(i, j))\n",
    "mse = mean_squared_error(y_test, gbt.predict(X_test_scaled))\n",
    "print(\"The mean squared error (MSE) on test set: {:.4f}\".format(mse))\n",
    "\n",
    "pred2 = gbt.predict(X_test_scaled)\n",
    "print(\"The best accuracy on training set: %.3f\" % gbt.score(X_train_scaled, y_train))\n",
    "print(\"The best accuracy on test set: %.3f\" % gbt.score(X_test_scaled, y_test))"
   ]
  },
  {
   "cell_type": "code",
   "execution_count": null,
   "metadata": {},
   "outputs": [],
   "source": []
  }
 ],
 "metadata": {
  "file_extension": ".py",
  "kernelspec": {
   "display_name": "mlenv",
   "language": "python",
   "name": "mlenv"
  },
  "language_info": {
   "codemirror_mode": {
    "name": "ipython",
    "version": 3
   },
   "file_extension": ".py",
   "mimetype": "text/x-python",
   "name": "python",
   "nbconvert_exporter": "python",
   "pygments_lexer": "ipython3",
   "version": "3.7.13"
  },
  "mimetype": "text/x-python",
  "name": "python",
  "npconvert_exporter": "python",
  "pygments_lexer": "ipython3",
  "version": 3
 },
 "nbformat": 4,
 "nbformat_minor": 4
}
