{
 "cells": [
  {
   "cell_type": "code",
   "execution_count": 1,
   "id": "17d5f19f",
   "metadata": {},
   "outputs": [],
   "source": [
    "import pandas as pd"
   ]
  },
  {
   "cell_type": "code",
   "execution_count": 2,
   "id": "f0ca120d",
   "metadata": {},
   "outputs": [
    {
     "data": {
      "text/html": [
       "<div>\n",
       "<style scoped>\n",
       "    .dataframe tbody tr th:only-of-type {\n",
       "        vertical-align: middle;\n",
       "    }\n",
       "\n",
       "    .dataframe tbody tr th {\n",
       "        vertical-align: top;\n",
       "    }\n",
       "\n",
       "    .dataframe thead th {\n",
       "        text-align: right;\n",
       "    }\n",
       "</style>\n",
       "<table border=\"1\" class=\"dataframe\">\n",
       "  <thead>\n",
       "    <tr style=\"text-align: right;\">\n",
       "      <th></th>\n",
       "      <th>County</th>\n",
       "      <th>Year</th>\n",
       "      <th>Population</th>\n",
       "      <th>Percent Change</th>\n",
       "      <th>Numeric Change</th>\n",
       "    </tr>\n",
       "  </thead>\n",
       "  <tbody>\n",
       "    <tr>\n",
       "      <th>0</th>\n",
       "      <td>Alameda</td>\n",
       "      <td>2015</td>\n",
       "      <td>1,630,159</td>\n",
       "      <td>1.34</td>\n",
       "      <td>21,545</td>\n",
       "    </tr>\n",
       "    <tr>\n",
       "      <th>1</th>\n",
       "      <td>Alameda</td>\n",
       "      <td>2016</td>\n",
       "      <td>1,647,332</td>\n",
       "      <td>1.05</td>\n",
       "      <td>17,173</td>\n",
       "    </tr>\n",
       "    <tr>\n",
       "      <th>2</th>\n",
       "      <td>Alameda</td>\n",
       "      <td>2017</td>\n",
       "      <td>1,659,750</td>\n",
       "      <td>0.75</td>\n",
       "      <td>12,418</td>\n",
       "    </tr>\n",
       "    <tr>\n",
       "      <th>3</th>\n",
       "      <td>Alameda</td>\n",
       "      <td>2018</td>\n",
       "      <td>1,669,659</td>\n",
       "      <td>0.60</td>\n",
       "      <td>9,909</td>\n",
       "    </tr>\n",
       "    <tr>\n",
       "      <th>4</th>\n",
       "      <td>Alameda</td>\n",
       "      <td>2019</td>\n",
       "      <td>1,678,926</td>\n",
       "      <td>0.56</td>\n",
       "      <td>9,267</td>\n",
       "    </tr>\n",
       "  </tbody>\n",
       "</table>\n",
       "</div>"
      ],
      "text/plain": [
       "    County  Year Population  Percent Change Numeric Change\n",
       "0  Alameda  2015  1,630,159            1.34         21,545\n",
       "1  Alameda  2016  1,647,332            1.05         17,173\n",
       "2  Alameda  2017  1,659,750            0.75         12,418\n",
       "3  Alameda  2018  1,669,659            0.60          9,909\n",
       "4  Alameda  2019  1,678,926            0.56          9,267"
      ]
     },
     "execution_count": 2,
     "metadata": {},
     "output_type": "execute_result"
    }
   ],
   "source": [
    "#Import demographics dataset\n",
    "file_path = \"C:/Users/VivoBook/Desktop/Classwork/capstoneproject-2022/Data/CA_pop_2015-2022.csv\"\n",
    "pop_df = pd.read_csv(file_path)\n",
    "pop_df.head()"
   ]
  },
  {
   "cell_type": "code",
   "execution_count": 4,
   "id": "5314ce23",
   "metadata": {},
   "outputs": [
    {
     "data": {
      "text/html": [
       "<div>\n",
       "<style scoped>\n",
       "    .dataframe tbody tr th:only-of-type {\n",
       "        vertical-align: middle;\n",
       "    }\n",
       "\n",
       "    .dataframe tbody tr th {\n",
       "        vertical-align: top;\n",
       "    }\n",
       "\n",
       "    .dataframe thead th {\n",
       "        text-align: right;\n",
       "    }\n",
       "</style>\n",
       "<table border=\"1\" class=\"dataframe\">\n",
       "  <thead>\n",
       "    <tr style=\"text-align: right;\">\n",
       "      <th></th>\n",
       "      <th>county</th>\n",
       "      <th>year</th>\n",
       "      <th>population</th>\n",
       "      <th>percent_change</th>\n",
       "      <th>number_change</th>\n",
       "    </tr>\n",
       "  </thead>\n",
       "  <tbody>\n",
       "    <tr>\n",
       "      <th>0</th>\n",
       "      <td>Alameda</td>\n",
       "      <td>2015</td>\n",
       "      <td>1630159</td>\n",
       "      <td>1.34</td>\n",
       "      <td>21545</td>\n",
       "    </tr>\n",
       "    <tr>\n",
       "      <th>1</th>\n",
       "      <td>Alameda</td>\n",
       "      <td>2016</td>\n",
       "      <td>1647332</td>\n",
       "      <td>1.05</td>\n",
       "      <td>17173</td>\n",
       "    </tr>\n",
       "    <tr>\n",
       "      <th>2</th>\n",
       "      <td>Alameda</td>\n",
       "      <td>2017</td>\n",
       "      <td>1659750</td>\n",
       "      <td>0.75</td>\n",
       "      <td>12418</td>\n",
       "    </tr>\n",
       "    <tr>\n",
       "      <th>3</th>\n",
       "      <td>Alameda</td>\n",
       "      <td>2018</td>\n",
       "      <td>1669659</td>\n",
       "      <td>0.60</td>\n",
       "      <td>9909</td>\n",
       "    </tr>\n",
       "    <tr>\n",
       "      <th>4</th>\n",
       "      <td>Alameda</td>\n",
       "      <td>2019</td>\n",
       "      <td>1678926</td>\n",
       "      <td>0.56</td>\n",
       "      <td>9267</td>\n",
       "    </tr>\n",
       "  </tbody>\n",
       "</table>\n",
       "</div>"
      ],
      "text/plain": [
       "    county  year population  percent_change number_change\n",
       "0  Alameda  2015    1630159            1.34         21545\n",
       "1  Alameda  2016    1647332            1.05         17173\n",
       "2  Alameda  2017    1659750            0.75         12418\n",
       "3  Alameda  2018    1669659            0.60          9909\n",
       "4  Alameda  2019    1678926            0.56          9267"
      ]
     },
     "execution_count": 4,
     "metadata": {},
     "output_type": "execute_result"
    }
   ],
   "source": [
    "# Rename columns and commas for database table\n",
    "pop_df.columns = [\"county\", \"year\", \"population\", \"percent_change\", \"number_change\"]\n",
    "pop_df = pop_df.replace(',','', regex=True)\n",
    "pop_df.population = pop_df.population.str.strip()\n",
    "pop_df.head()"
   ]
  },
  {
   "cell_type": "code",
   "execution_count": 5,
   "id": "081531d3",
   "metadata": {},
   "outputs": [
    {
     "data": {
      "text/plain": [
       "county             object\n",
       "year                int32\n",
       "population          int32\n",
       "percent_change    float64\n",
       "number_change      object\n",
       "dtype: object"
      ]
     },
     "execution_count": 5,
     "metadata": {},
     "output_type": "execute_result"
    }
   ],
   "source": [
    "# Drop NaNs and change dtypes\n",
    "pop_df = pop_df.dropna()\n",
    "pop_df = pop_df.astype({\"year\": \"int\"})\n",
    "pop_df.population = pop_df.population.astype(\"float\").astype(\"int\")\n",
    "pop_df.dtypes"
   ]
  },
  {
   "cell_type": "code",
   "execution_count": 6,
   "id": "1823bb9a",
   "metadata": {},
   "outputs": [],
   "source": [
    "# Create sample dataframe and save as csv\n",
    "pop_df.to_csv(\"pop_db.csv\", index=False)"
   ]
  },
  {
   "cell_type": "code",
   "execution_count": null,
   "id": "6bb51593",
   "metadata": {},
   "outputs": [],
   "source": []
  }
 ],
 "metadata": {
  "kernelspec": {
   "display_name": "mlenv",
   "language": "python",
   "name": "mlenv"
  },
  "language_info": {
   "codemirror_mode": {
    "name": "ipython",
    "version": 3
   },
   "file_extension": ".py",
   "mimetype": "text/x-python",
   "name": "python",
   "nbconvert_exporter": "python",
   "pygments_lexer": "ipython3",
   "version": "3.7.13"
  }
 },
 "nbformat": 4,
 "nbformat_minor": 5
}
