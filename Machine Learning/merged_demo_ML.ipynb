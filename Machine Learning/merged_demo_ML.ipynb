{
 "cells": [
  {
   "cell_type": "markdown",
   "metadata": {},
   "source": [
    "#  Decision Trees"
   ]
  },
  {
   "cell_type": "code",
   "execution_count": 36,
   "metadata": {},
   "outputs": [],
   "source": [
    "# Initial imports\n",
    "%matplotlib inline\n",
    "from matplotlib import pyplot as plt\n",
    "import pandas as pd\n",
    "import numpy as np\n",
    "from sklearn.ensemble import RandomForestRegressor\n",
    "from sklearn.preprocessing import StandardScaler\n",
    "from sklearn.model_selection import train_test_split\n",
    "from sklearn.metrics import confusion_matrix, accuracy_score, classification_report"
   ]
  },
  {
   "cell_type": "markdown",
   "metadata": {},
   "source": [
    "## Loading and Preprocessing Loans Encoded Data"
   ]
  },
  {
   "cell_type": "code",
   "execution_count": 37,
   "metadata": {},
   "outputs": [
    {
     "data": {
      "text/html": [
       "<div>\n",
       "<style scoped>\n",
       "    .dataframe tbody tr th:only-of-type {\n",
       "        vertical-align: middle;\n",
       "    }\n",
       "\n",
       "    .dataframe tbody tr th {\n",
       "        vertical-align: top;\n",
       "    }\n",
       "\n",
       "    .dataframe thead th {\n",
       "        text-align: right;\n",
       "    }\n",
       "</style>\n",
       "<table border=\"1\" class=\"dataframe\">\n",
       "  <thead>\n",
       "    <tr style=\"text-align: right;\">\n",
       "      <th></th>\n",
       "      <th>county</th>\n",
       "      <th>year</th>\n",
       "      <th>number_sales</th>\n",
       "      <th>sales_percentage</th>\n",
       "      <th>population</th>\n",
       "      <th>pop_percentage</th>\n",
       "      <th>county_count</th>\n",
       "      <th>state_count</th>\n",
       "      <th>total_incentives</th>\n",
       "      <th>county_max</th>\n",
       "      <th>...</th>\n",
       "      <th>previous_evs</th>\n",
       "      <th>household_income</th>\n",
       "      <th>importance_of_gge</th>\n",
       "      <th>homeowner</th>\n",
       "      <th>education</th>\n",
       "      <th>commute_distance</th>\n",
       "      <th>age</th>\n",
       "      <th>gender</th>\n",
       "      <th>number_of_vehicles</th>\n",
       "      <th>annual_miles</th>\n",
       "    </tr>\n",
       "  </thead>\n",
       "  <tbody>\n",
       "    <tr>\n",
       "      <th>0</th>\n",
       "      <td>Alameda</td>\n",
       "      <td>2015</td>\n",
       "      <td>5536</td>\n",
       "      <td>8.65</td>\n",
       "      <td>1630159</td>\n",
       "      <td>4.19</td>\n",
       "      <td>0</td>\n",
       "      <td>6</td>\n",
       "      <td>6</td>\n",
       "      <td>0</td>\n",
       "      <td>...</td>\n",
       "      <td>1</td>\n",
       "      <td>204219.01</td>\n",
       "      <td>1.57</td>\n",
       "      <td>0.89</td>\n",
       "      <td>3.32</td>\n",
       "      <td>18.52</td>\n",
       "      <td>50.99</td>\n",
       "      <td>0.27</td>\n",
       "      <td>2.55</td>\n",
       "      <td>13170.26</td>\n",
       "    </tr>\n",
       "    <tr>\n",
       "      <th>1</th>\n",
       "      <td>Alameda</td>\n",
       "      <td>2016</td>\n",
       "      <td>5327</td>\n",
       "      <td>7.35</td>\n",
       "      <td>1647332</td>\n",
       "      <td>4.21</td>\n",
       "      <td>0</td>\n",
       "      <td>6</td>\n",
       "      <td>6</td>\n",
       "      <td>0</td>\n",
       "      <td>...</td>\n",
       "      <td>1</td>\n",
       "      <td>216141.50</td>\n",
       "      <td>1.61</td>\n",
       "      <td>0.85</td>\n",
       "      <td>3.34</td>\n",
       "      <td>18.83</td>\n",
       "      <td>49.27</td>\n",
       "      <td>0.25</td>\n",
       "      <td>2.41</td>\n",
       "      <td>12477.10</td>\n",
       "    </tr>\n",
       "    <tr>\n",
       "      <th>2</th>\n",
       "      <td>Alameda</td>\n",
       "      <td>2017</td>\n",
       "      <td>7056</td>\n",
       "      <td>7.61</td>\n",
       "      <td>1659750</td>\n",
       "      <td>4.22</td>\n",
       "      <td>0</td>\n",
       "      <td>6</td>\n",
       "      <td>6</td>\n",
       "      <td>0</td>\n",
       "      <td>...</td>\n",
       "      <td>1</td>\n",
       "      <td>185496.29</td>\n",
       "      <td>1.75</td>\n",
       "      <td>0.80</td>\n",
       "      <td>3.37</td>\n",
       "      <td>18.76</td>\n",
       "      <td>48.95</td>\n",
       "      <td>0.27</td>\n",
       "      <td>2.31</td>\n",
       "      <td>13239.44</td>\n",
       "    </tr>\n",
       "    <tr>\n",
       "      <th>3</th>\n",
       "      <td>Alpine</td>\n",
       "      <td>2017</td>\n",
       "      <td>1</td>\n",
       "      <td>0.00</td>\n",
       "      <td>1211</td>\n",
       "      <td>0.00</td>\n",
       "      <td>0</td>\n",
       "      <td>6</td>\n",
       "      <td>6</td>\n",
       "      <td>0</td>\n",
       "      <td>...</td>\n",
       "      <td>1</td>\n",
       "      <td>185496.29</td>\n",
       "      <td>1.75</td>\n",
       "      <td>0.80</td>\n",
       "      <td>3.37</td>\n",
       "      <td>18.76</td>\n",
       "      <td>48.95</td>\n",
       "      <td>0.27</td>\n",
       "      <td>2.31</td>\n",
       "      <td>13239.44</td>\n",
       "    </tr>\n",
       "    <tr>\n",
       "      <th>4</th>\n",
       "      <td>Amador</td>\n",
       "      <td>2015</td>\n",
       "      <td>15</td>\n",
       "      <td>0.02</td>\n",
       "      <td>36905</td>\n",
       "      <td>0.09</td>\n",
       "      <td>0</td>\n",
       "      <td>6</td>\n",
       "      <td>6</td>\n",
       "      <td>0</td>\n",
       "      <td>...</td>\n",
       "      <td>1</td>\n",
       "      <td>204219.01</td>\n",
       "      <td>1.57</td>\n",
       "      <td>0.89</td>\n",
       "      <td>3.32</td>\n",
       "      <td>18.52</td>\n",
       "      <td>50.99</td>\n",
       "      <td>0.27</td>\n",
       "      <td>2.55</td>\n",
       "      <td>13170.26</td>\n",
       "    </tr>\n",
       "  </tbody>\n",
       "</table>\n",
       "<p>5 rows × 22 columns</p>\n",
       "</div>"
      ],
      "text/plain": [
       "    county  year  number_sales  sales_percentage  population  pop_percentage  \\\n",
       "0  Alameda  2015          5536              8.65     1630159            4.19   \n",
       "1  Alameda  2016          5327              7.35     1647332            4.21   \n",
       "2  Alameda  2017          7056              7.61     1659750            4.22   \n",
       "3   Alpine  2017             1              0.00        1211            0.00   \n",
       "4   Amador  2015            15              0.02       36905            0.09   \n",
       "\n",
       "   county_count  state_count  total_incentives  county_max  ...  previous_evs  \\\n",
       "0             0            6                 6           0  ...             1   \n",
       "1             0            6                 6           0  ...             1   \n",
       "2             0            6                 6           0  ...             1   \n",
       "3             0            6                 6           0  ...             1   \n",
       "4             0            6                 6           0  ...             1   \n",
       "\n",
       "   household_income  importance_of_gge  homeowner  education  \\\n",
       "0         204219.01               1.57       0.89       3.32   \n",
       "1         216141.50               1.61       0.85       3.34   \n",
       "2         185496.29               1.75       0.80       3.37   \n",
       "3         185496.29               1.75       0.80       3.37   \n",
       "4         204219.01               1.57       0.89       3.32   \n",
       "\n",
       "   commute_distance    age  gender  number_of_vehicles  annual_miles  \n",
       "0             18.52  50.99    0.27                2.55      13170.26  \n",
       "1             18.83  49.27    0.25                2.41      12477.10  \n",
       "2             18.76  48.95    0.27                2.31      13239.44  \n",
       "3             18.76  48.95    0.27                2.31      13239.44  \n",
       "4             18.52  50.99    0.27                2.55      13170.26  \n",
       "\n",
       "[5 rows x 22 columns]"
      ]
     },
     "execution_count": 37,
     "metadata": {},
     "output_type": "execute_result"
    }
   ],
   "source": [
    "# Loading data\n",
    "file_path = \"C:/Users/VivoBook/Desktop/Classwork/capstoneproject-2022/Database/merged_demo.csv\"\n",
    "merged_demo = pd.read_csv(file_path)\n",
    "merged_demo.head()"
   ]
  },
  {
   "cell_type": "code",
   "execution_count": 38,
   "metadata": {},
   "outputs": [],
   "source": [
    "merged_demo = merged_demo.drop(columns=[\"county\", \"sales_percentage\"])"
   ]
  },
  {
   "cell_type": "code",
   "execution_count": 39,
   "metadata": {},
   "outputs": [],
   "source": [
    "# Define features set\n",
    "X = merged_demo.drop(\"number_sales\", axis=1)\n",
    "y = merged_demo[\"number_sales\"]"
   ]
  },
  {
   "cell_type": "code",
   "execution_count": 40,
   "metadata": {},
   "outputs": [],
   "source": [
    "# Split into Train and Test sets, StandardScaler()\n",
    "X_train, X_test, y_train, y_test = train_test_split(X, y, random_state=75, train_size=0.80)\n",
    "scaler = StandardScaler().fit(X_train)\n",
    "X_train_scaled = scaler.transform(X_train)\n",
    "X_test_scaled = scaler.transform(X_test)"
   ]
  },
  {
   "cell_type": "code",
   "execution_count": 41,
   "metadata": {},
   "outputs": [
    {
     "name": "stdout",
     "output_type": "stream",
     "text": [
      "(134, 19)\n",
      "(34, 19)\n",
      "(134,)\n",
      "(34,)\n"
     ]
    }
   ],
   "source": [
    "print(X_train.shape)\n",
    "print(X_test.shape)\n",
    "print(y_train.shape)\n",
    "print(y_test.shape)"
   ]
  },
  {
   "cell_type": "markdown",
   "metadata": {},
   "source": [
    "## Fitting the Random Forest Model"
   ]
  },
  {
   "cell_type": "code",
   "execution_count": 42,
   "metadata": {},
   "outputs": [],
   "source": [
    "# Create and fit the random forest regressor instance\n",
    "rf_model = RandomForestRegressor(random_state=75, n_estimators=500).fit(X_train_scaled, y_train)"
   ]
  },
  {
   "cell_type": "markdown",
   "metadata": {},
   "source": [
    "## Making Predictions Using the Data"
   ]
  },
  {
   "cell_type": "code",
   "execution_count": 43,
   "metadata": {
    "scrolled": true
   },
   "outputs": [
    {
     "name": "stdout",
     "output_type": "stream",
     "text": [
      "Training Data Score: 0.9710640748589472\n",
      "Testing Data Score: 0.8393753309916875\n"
     ]
    }
   ],
   "source": [
    "# Making predictions using the testing data\n",
    "y_pred = rf_model.predict(X_test_scaled)\n",
    "print(f\"Training Data Score: {rf_model.score(X_train_scaled, y_train)}\")\n",
    "print(f\"Testing Data Score: {rf_model.score(X_test_scaled, y_test)}\")"
   ]
  },
  {
   "cell_type": "markdown",
   "metadata": {},
   "source": [
    "## Rank Importance of Features"
   ]
  },
  {
   "cell_type": "code",
   "execution_count": 44,
   "metadata": {},
   "outputs": [
    {
     "data": {
      "text/plain": [
       "array([0.00272921, 0.39577503, 0.41829469, 0.05728915, 0.        ,\n",
       "       0.08019266, 0.01433757, 0.        , 0.01101322, 0.        ,\n",
       "       0.00281116, 0.0024021 , 0.00230833, 0.00203632, 0.00193691,\n",
       "       0.00230974, 0.0009503 , 0.00275643, 0.00285717])"
      ]
     },
     "execution_count": 44,
     "metadata": {},
     "output_type": "execute_result"
    }
   ],
   "source": [
    "# Calculate feature importance in the Random Forest model.\n",
    "feature_importances = rf_model.feature_importances_\n",
    "feature_importances"
   ]
  },
  {
   "cell_type": "code",
   "execution_count": 45,
   "metadata": {},
   "outputs": [
    {
     "data": {
      "image/png": "[encoded data removed]",
      "text/plain": [
       "<Figure size 720x720 with 1 Axes>"
      ]
     },
     "metadata": {
      "needs_background": "light"
     },
     "output_type": "display_data"
    }
   ],
   "source": [
    "# Use the following code to plot the most important features\n",
    "features = sorted(zip(X.columns, feature_importances), key = lambda x: x[1])\n",
    "cols = [f[0] for f in features]\n",
    "width = [f[1] for f in features]\n",
    "\n",
    "fig, ax = plt.subplots()\n",
    "\n",
    "fig.set_size_inches(10,10)\n",
    "plt.margins(y=0.001)\n",
    "\n",
    "ax.barh(y=cols[-10:], width=width[-10:])\n",
    "\n",
    "plt.show()"
   ]
  },
  {
   "cell_type": "markdown",
   "metadata": {},
   "source": [
    "# Visualize regression results"
   ]
  },
  {
   "cell_type": "code",
   "execution_count": 48,
   "metadata": {},
   "outputs": [
    {
     "data": {
      "image/png": "[encoded data removed]",
      "text/plain": [
       "<Figure size 432x288 with 1 Axes>"
      ]
     },
     "metadata": {
      "needs_background": "light"
     },
     "output_type": "display_data"
    }
   ],
   "source": [
    "# Visualize model’s predictions for pop_percentage\n",
    "# Real values = red, predicted = green\n",
    "# Code found here: https://cnvrg.io/random-forest-regression/\n",
    "plt.scatter(X_test['pop_percentage'].values, y_test, color = 'red')\n",
    "plt.scatter(X_test['pop_percentage'].values, y_pred, color = 'green')\n",
    "plt.title('Random Forest Regression')\n",
    "plt.xlabel('Population Percentage')\n",
    "plt.ylabel('EV Sales')\n",
    "plt.show() "
   ]
  },
  {
   "cell_type": "code",
   "execution_count": 49,
   "metadata": {},
   "outputs": [
    {
     "data": {
      "image/png": "[encoded data removed]",
      "text/plain": [
       "<Figure size 432x288 with 1 Axes>"
      ]
     },
     "metadata": {
      "needs_background": "light"
     },
     "output_type": "display_data"
    }
   ],
   "source": [
    "# Visualize model’s predictions for total_incentives\n",
    "# Real values = red, predicted = green\n",
    "plt.scatter(X_test['total_incentives'].values, y_test, color = 'red')\n",
    "plt.scatter(X_test['total_incentives'].values, y_pred, color = 'green')\n",
    "plt.title('Random Forest Regression')\n",
    "plt.xlabel('Total Incentives')\n",
    "plt.ylabel('EV Sales')\n",
    "plt.show() "
   ]
  },
  {
   "cell_type": "code",
   "execution_count": 50,
   "metadata": {},
   "outputs": [
    {
     "data": {
      "image/png": "[encoded data removed]",
      "text/plain": [
       "<Figure size 432x288 with 1 Axes>"
      ]
     },
     "metadata": {
      "needs_background": "light"
     },
     "output_type": "display_data"
    }
   ],
   "source": [
    "# Visualize model’s predictions for county_max\n",
    "# Real values = red, predicted = green\n",
    "plt.scatter(X_test['county_max'].values, y_test, color = 'red')\n",
    "plt.scatter(X_test['county_max'].values, y_pred, color = 'green')\n",
    "plt.title('Random Forest Regression')\n",
    "plt.xlabel('County Max Amount')\n",
    "plt.ylabel('EV Sales')\n",
    "plt.show() "
   ]
  },
  {
   "cell_type": "markdown",
   "metadata": {},
   "source": [
    "# Make pipeline to preprocess the data for stacked predictors"
   ]
  },
  {
   "cell_type": "code",
   "execution_count": 56,
   "metadata": {},
   "outputs": [
    {
     "data": {
      "text/plain": [
       "[]"
      ]
     },
     "execution_count": 56,
     "metadata": {},
     "output_type": "execute_result"
    }
   ],
   "source": [
    "# Authors: Guillaume Lemaitre <g.lemaitre58@gmail.com>\n",
    "#          Maria Telenczuk    <https://github.com/maikia>\n",
    "# License: BSD 3 clause\n",
    "\n",
    "from sklearn.compose import make_column_selector\n",
    "\n",
    "cat_selector = make_column_selector(dtype_include=object)\n",
    "num_selector = make_column_selector(dtype_include=np.number)\n",
    "cat_selector(X)"
   ]
  },
  {
   "cell_type": "code",
   "execution_count": 57,
   "metadata": {},
   "outputs": [
    {
     "data": {
      "text/plain": [
       "['year',\n",
       " 'population',\n",
       " 'pop_percentage',\n",
       " 'county_count',\n",
       " 'state_count',\n",
       " 'total_incentives',\n",
       " 'county_max',\n",
       " 'state_max',\n",
       " 'total_max',\n",
       " 'previous_evs',\n",
       " 'household_income',\n",
       " 'importance_of_gge',\n",
       " 'homeowner',\n",
       " 'education',\n",
       " 'commute_distance',\n",
       " 'age',\n",
       " 'gender',\n",
       " 'number_of_vehicles',\n",
       " 'annual_miles']"
      ]
     },
     "execution_count": 57,
     "metadata": {},
     "output_type": "execute_result"
    }
   ],
   "source": [
    "num_selector(X)"
   ]
  },
  {
   "cell_type": "code",
   "execution_count": 58,
   "metadata": {},
   "outputs": [
    {
     "data": {
      "text/plain": [
       "ColumnTransformer(transformers=[('simpleimputer',\n",
       "                                 SimpleImputer(add_indicator=True),\n",
       "                                 <sklearn.compose._column_transformer.make_column_selector object at 0x0000019E6E92D248>),\n",
       "                                ('ordinalencoder',\n",
       "                                 OrdinalEncoder(handle_unknown='use_encoded_value',\n",
       "                                                unknown_value=-1),\n",
       "                                 <sklearn.compose._column_transformer.make_column_selector object at 0x0000019E6E92D208>)])"
      ]
     },
     "execution_count": 58,
     "metadata": {},
     "output_type": "execute_result"
    }
   ],
   "source": [
    "from sklearn.compose import make_column_transformer\n",
    "from sklearn.impute import SimpleImputer\n",
    "from sklearn.pipeline import make_pipeline\n",
    "from sklearn.preprocessing import OrdinalEncoder\n",
    "\n",
    "cat_tree_processor = OrdinalEncoder(\n",
    "    handle_unknown=\"use_encoded_value\", unknown_value=-1\n",
    ")\n",
    "num_tree_processor = SimpleImputer(strategy=\"mean\", add_indicator=True)\n",
    "\n",
    "tree_preprocessor = make_column_transformer(\n",
    "    (num_tree_processor, num_selector), (cat_tree_processor, cat_selector)\n",
    ")\n",
    "tree_preprocessor"
   ]
  },
  {
   "cell_type": "code",
   "execution_count": 59,
   "metadata": {},
   "outputs": [
    {
     "data": {
      "text/plain": [
       "ColumnTransformer(transformers=[('pipeline',\n",
       "                                 Pipeline(steps=[('standardscaler',\n",
       "                                                  StandardScaler()),\n",
       "                                                 ('simpleimputer',\n",
       "                                                  SimpleImputer(add_indicator=True))]),\n",
       "                                 <sklearn.compose._column_transformer.make_column_selector object at 0x0000019E6E92D248>),\n",
       "                                ('onehotencoder',\n",
       "                                 OneHotEncoder(handle_unknown='ignore'),\n",
       "                                 <sklearn.compose._column_transformer.make_column_selector object at 0x0000019E6E92D208>)])"
      ]
     },
     "execution_count": 59,
     "metadata": {},
     "output_type": "execute_result"
    }
   ],
   "source": [
    "from sklearn.preprocessing import OneHotEncoder\n",
    "from sklearn.preprocessing import StandardScaler\n",
    "\n",
    "cat_linear_processor = OneHotEncoder(handle_unknown=\"ignore\")\n",
    "num_linear_processor = make_pipeline(\n",
    "    StandardScaler(), SimpleImputer(strategy=\"mean\", add_indicator=True)\n",
    ")\n",
    "\n",
    "linear_preprocessor = make_column_transformer(\n",
    "    (num_linear_processor, num_selector), (cat_linear_processor, cat_selector)\n",
    ")\n",
    "linear_preprocessor"
   ]
  },
  {
   "cell_type": "markdown",
   "metadata": {},
   "source": [
    "# Stack of predictors on a single data set"
   ]
  },
  {
   "cell_type": "code",
   "execution_count": 60,
   "metadata": {},
   "outputs": [
    {
     "data": {
      "text/plain": [
       "Pipeline(steps=[('columntransformer',\n",
       "                 ColumnTransformer(transformers=[('pipeline',\n",
       "                                                  Pipeline(steps=[('standardscaler',\n",
       "                                                                   StandardScaler()),\n",
       "                                                                  ('simpleimputer',\n",
       "                                                                   SimpleImputer(add_indicator=True))]),\n",
       "                                                  <sklearn.compose._column_transformer.make_column_selector object at 0x0000019E6E92D248>),\n",
       "                                                 ('onehotencoder',\n",
       "                                                  OneHotEncoder(handle_unknown='ignore'),\n",
       "                                                  <sklearn.compose._column_transformer.make_column_selector object at 0x0000019E6E92D208>)])),\n",
       "                ('lassocv', LassoCV())])"
      ]
     },
     "execution_count": 60,
     "metadata": {},
     "output_type": "execute_result"
    }
   ],
   "source": [
    "from sklearn.linear_model import LassoCV\n",
    "\n",
    "lasso_pipeline = make_pipeline(linear_preprocessor, LassoCV())\n",
    "lasso_pipeline"
   ]
  },
  {
   "cell_type": "code",
   "execution_count": 61,
   "metadata": {},
   "outputs": [
    {
     "data": {
      "text/plain": [
       "Pipeline(steps=[('columntransformer',\n",
       "                 ColumnTransformer(transformers=[('simpleimputer',\n",
       "                                                  SimpleImputer(add_indicator=True),\n",
       "                                                  <sklearn.compose._column_transformer.make_column_selector object at 0x0000019E6E92D248>),\n",
       "                                                 ('ordinalencoder',\n",
       "                                                  OrdinalEncoder(handle_unknown='use_encoded_value',\n",
       "                                                                 unknown_value=-1),\n",
       "                                                  <sklearn.compose._column_transformer.make_column_selector object at 0x0000019E6E92D208>)])),\n",
       "                ('randomforestregressor',\n",
       "                 RandomForestRegressor(random_state=42))])"
      ]
     },
     "execution_count": 61,
     "metadata": {},
     "output_type": "execute_result"
    }
   ],
   "source": [
    "from sklearn.ensemble import RandomForestRegressor\n",
    "\n",
    "rf_pipeline = make_pipeline(tree_preprocessor, RandomForestRegressor(random_state=42))\n",
    "rf_pipeline"
   ]
  },
  {
   "cell_type": "code",
   "execution_count": 62,
   "metadata": {},
   "outputs": [
    {
     "data": {
      "text/plain": [
       "Pipeline(steps=[('columntransformer',\n",
       "                 ColumnTransformer(transformers=[('simpleimputer',\n",
       "                                                  SimpleImputer(add_indicator=True),\n",
       "                                                  <sklearn.compose._column_transformer.make_column_selector object at 0x0000019E6E92D248>),\n",
       "                                                 ('ordinalencoder',\n",
       "                                                  OrdinalEncoder(handle_unknown='use_encoded_value',\n",
       "                                                                 unknown_value=-1),\n",
       "                                                  <sklearn.compose._column_transformer.make_column_selector object at 0x0000019E6E92D208>)])),\n",
       "                ('histgradientboostingregressor',\n",
       "                 HistGradientBoostingRegressor(random_state=0))])"
      ]
     },
     "execution_count": 62,
     "metadata": {},
     "output_type": "execute_result"
    }
   ],
   "source": [
    "from sklearn.ensemble import HistGradientBoostingRegressor\n",
    "\n",
    "gbdt_pipeline = make_pipeline(\n",
    "    tree_preprocessor, HistGradientBoostingRegressor(random_state=0)\n",
    ")\n",
    "gbdt_pipeline"
   ]
  },
  {
   "cell_type": "code",
   "execution_count": 66,
   "metadata": {},
   "outputs": [
    {
     "data": {
      "text/plain": [
       "StackingRegressor(estimators=[('Random Forest',\n",
       "                               Pipeline(steps=[('columntransformer',\n",
       "                                                ColumnTransformer(transformers=[('simpleimputer',\n",
       "                                                                                 SimpleImputer(add_indicator=True),\n",
       "                                                                                 <sklearn.compose._column_transformer.make_column_selector object at 0x0000019E6E92D248>),\n",
       "                                                                                ('ordinalencoder',\n",
       "                                                                                 OrdinalEncoder(handle_unknown='use_encoded_value',\n",
       "                                                                                                unknown_value=-1),\n",
       "                                                                                 <sklearn.com...\n",
       "                                                                                 <sklearn.compose._column_transformer.make_column_selector object at 0x0000019E6E92D248>),\n",
       "                                                                                ('ordinalencoder',\n",
       "                                                                                 OrdinalEncoder(handle_unknown='use_encoded_value',\n",
       "                                                                                                unknown_value=-1),\n",
       "                                                                                 <sklearn.compose._column_transformer.make_column_selector object at 0x0000019E6E92D208>)])),\n",
       "                                               ('histgradientboostingregressor',\n",
       "                                                HistGradientBoostingRegressor(random_state=0))]))],\n",
       "                  final_estimator=RidgeCV(alphas=array([ 0.1,  1. , 10. ])))"
      ]
     },
     "execution_count": 66,
     "metadata": {},
     "output_type": "execute_result"
    }
   ],
   "source": [
    "from sklearn.ensemble import StackingRegressor\n",
    "from sklearn.linear_model import RidgeCV\n",
    "\n",
    "estimators = [\n",
    "    (\"Random Forest\", rf_pipeline),\n",
    "    (\"Lasso\", lasso_pipeline),\n",
    "    (\"Gradient Boosting\", gbdt_pipeline),\n",
    "]\n",
    "\n",
    "stacking_regressor = StackingRegressor(estimators=estimators, final_estimator=RidgeCV())\n",
    "stacking_regressor"
   ]
  },
  {
   "cell_type": "markdown",
   "metadata": {},
   "source": [
    "# Measure and plot the results"
   ]
  },
  {
   "cell_type": "code",
   "execution_count": 67,
   "metadata": {},
   "outputs": [
    {
     "data": {
      "image/png": "[encoded data removed]",
      "text/plain": [
       "<Figure size 648x504 with 4 Axes>"
      ]
     },
     "metadata": {
      "needs_background": "light"
     },
     "output_type": "display_data"
    }
   ],
   "source": [
    "import time\n",
    "import matplotlib.pyplot as plt\n",
    "from sklearn.model_selection import cross_validate, cross_val_predict\n",
    "\n",
    "\n",
    "def plot_regression_results(ax, y_true, y_pred, title, scores, elapsed_time):\n",
    "    \"\"\"Scatter plot of the predicted vs true targets.\"\"\"\n",
    "    ax.plot(\n",
    "        [y_true.min(), y_true.max()], [y_true.min(), y_true.max()], \"--r\", linewidth=2\n",
    "    )\n",
    "    ax.scatter(y_true, y_pred, alpha=0.2)\n",
    "\n",
    "    ax.spines[\"top\"].set_visible(False)\n",
    "    ax.spines[\"right\"].set_visible(False)\n",
    "    ax.get_xaxis().tick_bottom()\n",
    "    ax.get_yaxis().tick_left()\n",
    "    ax.spines[\"left\"].set_position((\"outward\", 10))\n",
    "    ax.spines[\"bottom\"].set_position((\"outward\", 10))\n",
    "    ax.set_xlim([y_true.min(), y_true.max()])\n",
    "    ax.set_ylim([y_true.min(), y_true.max()])\n",
    "    ax.set_xlabel(\"Measured\")\n",
    "    ax.set_ylabel(\"Predicted\")\n",
    "    extra = plt.Rectangle(\n",
    "        (0, 0), 0, 0, fc=\"w\", fill=False, edgecolor=\"none\", linewidth=0\n",
    "    )\n",
    "    ax.legend([extra], [scores], loc=\"upper left\")\n",
    "    title = title + \"\\n Evaluation in {:.2f} seconds\".format(elapsed_time)\n",
    "    ax.set_title(title)\n",
    "\n",
    "\n",
    "fig, axs = plt.subplots(2, 2, figsize=(9, 7))\n",
    "axs = np.ravel(axs)\n",
    "\n",
    "for ax, (name, est) in zip(\n",
    "    axs, estimators + [(\"Stacking Regressor\", stacking_regressor)]\n",
    "):\n",
    "    start_time = time.time()\n",
    "    score = cross_validate(\n",
    "        est, X, y, scoring=[\"r2\", \"neg_mean_absolute_error\"], n_jobs=2, verbose=0\n",
    "    )\n",
    "    elapsed_time = time.time() - start_time\n",
    "\n",
    "    y_pred = cross_val_predict(est, X, y, n_jobs=2, verbose=0)\n",
    "\n",
    "    plot_regression_results(\n",
    "        ax,\n",
    "        y,\n",
    "        y_pred,\n",
    "        name,\n",
    "        (r\"$R^2={:.2f} \\pm {:.2f}$\" + \"\\n\" + r\"$MAE={:.2f} \\pm {:.2f}$\").format(\n",
    "            np.mean(score[\"test_r2\"]),\n",
    "            np.std(score[\"test_r2\"]),\n",
    "            -np.mean(score[\"test_neg_mean_absolute_error\"]),\n",
    "            np.std(score[\"test_neg_mean_absolute_error\"]),\n",
    "        ),\n",
    "        elapsed_time,\n",
    "    )\n",
    "\n",
    "plt.suptitle(\"Single predictors versus stacked predictors\")\n",
    "plt.tight_layout()\n",
    "plt.subplots_adjust(top=0.9)\n",
    "plt.show()"
   ]
  },
  {
   "cell_type": "markdown",
   "metadata": {},
   "source": [
    "# Gradient Boosting Regressor"
   ]
  },
  {
   "cell_type": "code",
   "execution_count": 77,
   "metadata": {},
   "outputs": [
    {
     "name": "stdout",
     "output_type": "stream",
     "text": [
      "predict output for GradientBoostingRegressor: learning_rate=0.1, n_estimators=100\n",
      "The mean squared error (MSE) on test set: 249738.8683\n",
      "Accuracy on training set: 0.996\n",
      "Accuracy on test set: 0.912\n",
      "==============================================\n",
      "predict output for GradientBoostingRegressor: learning_rate=0.1, n_estimators=250\n",
      "The mean squared error (MSE) on test set: 226573.9986\n",
      "Accuracy on training set: 1.000\n",
      "Accuracy on test set: 0.920\n",
      "==============================================\n",
      "predict output for GradientBoostingRegressor: learning_rate=0.1, n_estimators=500\n",
      "The mean squared error (MSE) on test set: 218966.3994\n",
      "Accuracy on training set: 1.000\n",
      "Accuracy on test set: 0.923\n",
      "==============================================\n",
      "predict output for GradientBoostingRegressor: learning_rate=0.1, n_estimators=750\n",
      "The mean squared error (MSE) on test set: 233629.8403\n",
      "Accuracy on training set: 1.000\n",
      "Accuracy on test set: 0.917\n",
      "==============================================\n",
      "predict output for GradientBoostingRegressor: learning_rate=0.01, n_estimators=100\n",
      "The mean squared error (MSE) on test set: 2833034.4060\n",
      "Accuracy on training set: 0.690\n",
      "Accuracy on test set: -0.001\n",
      "==============================================\n",
      "predict output for GradientBoostingRegressor: learning_rate=0.01, n_estimators=250\n",
      "The mean squared error (MSE) on test set: 1600105.9221\n",
      "Accuracy on training set: 0.866\n",
      "Accuracy on test set: 0.435\n",
      "==============================================\n",
      "predict output for GradientBoostingRegressor: learning_rate=0.01, n_estimators=500\n",
      "The mean squared error (MSE) on test set: 510261.4263\n",
      "Accuracy on training set: 0.970\n",
      "Accuracy on test set: 0.820\n",
      "==============================================\n",
      "predict output for GradientBoostingRegressor: learning_rate=0.01, n_estimators=750\n",
      "The mean squared error (MSE) on test set: 335085.0717\n",
      "Accuracy on training set: 0.988\n",
      "Accuracy on test set: 0.882\n",
      "==============================================\n",
      "predict output for GradientBoostingRegressor: learning_rate=0.001, n_estimators=100\n",
      "The mean squared error (MSE) on test set: 3455687.2625\n",
      "Accuracy on training set: 0.141\n",
      "Accuracy on test set: -0.221\n",
      "==============================================\n",
      "predict output for GradientBoostingRegressor: learning_rate=0.001, n_estimators=250\n",
      "The mean squared error (MSE) on test set: 3287803.8059\n",
      "Accuracy on training set: 0.304\n",
      "Accuracy on test set: -0.161\n",
      "==============================================\n",
      "predict output for GradientBoostingRegressor: learning_rate=0.001, n_estimators=500\n",
      "The mean squared error (MSE) on test set: 3074507.2527\n",
      "Accuracy on training set: 0.491\n",
      "Accuracy on test set: -0.086\n",
      "==============================================\n",
      "predict output for GradientBoostingRegressor: learning_rate=0.001, n_estimators=750\n",
      "The mean squared error (MSE) on test set: 2931066.6334\n",
      "Accuracy on training set: 0.608\n",
      "Accuracy on test set: -0.035\n",
      "==============================================\n"
     ]
    }
   ],
   "source": [
    "# Try for better results based off stacked predictors\n",
    "from sklearn.ensemble import GradientBoostingRegressor\n",
    "from sklearn.metrics import mean_squared_error\n",
    "for i in [0.1, 0.01, 0.001]:\n",
    "    for j in [100, 250, 500, 750]:\n",
    "        gbr = GradientBoostingRegressor(learning_rate=i, n_estimators=j)\n",
    "        gbr = gbr.fit(X_train_scaled, y_train)\n",
    "        print(\"predict output for GradientBoostingRegressor: learning_rate={}, n_estimators={}\".format(i, j))\n",
    "        mse = mean_squared_error(y_test, gbr.predict(X_test_scaled))\n",
    "        print(\"The mean squared error (MSE) on test set: {:.4f}\".format(mse))\n",
    "\n",
    "        pred2 = gbr.predict(X_test_scaled)\n",
    "        print(\"Accuracy on training set: %.3f\" % gbr.score(X_train_scaled, y_train))\n",
    "        print(\"Accuracy on test set: %.3f\" % gbr.score(X_test_scaled, y_test))\n",
    "        print(\"==============================================\")"
   ]
  },
  {
   "cell_type": "code",
   "execution_count": 79,
   "metadata": {},
   "outputs": [
    {
     "data": {
      "text/html": [
       "<div>\n",
       "<style scoped>\n",
       "    .dataframe tbody tr th:only-of-type {\n",
       "        vertical-align: middle;\n",
       "    }\n",
       "\n",
       "    .dataframe tbody tr th {\n",
       "        vertical-align: top;\n",
       "    }\n",
       "\n",
       "    .dataframe thead th {\n",
       "        text-align: right;\n",
       "    }\n",
       "</style>\n",
       "<table border=\"1\" class=\"dataframe\">\n",
       "  <thead>\n",
       "    <tr style=\"text-align: right;\">\n",
       "      <th></th>\n",
       "      <th>year</th>\n",
       "      <th>population</th>\n",
       "      <th>pop_percentage</th>\n",
       "      <th>county_count</th>\n",
       "      <th>state_count</th>\n",
       "      <th>total_incentives</th>\n",
       "      <th>county_max</th>\n",
       "      <th>state_max</th>\n",
       "      <th>total_max</th>\n",
       "      <th>previous_evs</th>\n",
       "      <th>household_income</th>\n",
       "      <th>importance_of_gge</th>\n",
       "      <th>homeowner</th>\n",
       "      <th>education</th>\n",
       "      <th>commute_distance</th>\n",
       "      <th>age</th>\n",
       "      <th>gender</th>\n",
       "      <th>number_of_vehicles</th>\n",
       "      <th>annual_miles</th>\n",
       "      <th>number_sales</th>\n",
       "    </tr>\n",
       "  </thead>\n",
       "  <tbody>\n",
       "    <tr>\n",
       "      <th>165</th>\n",
       "      <td>2015</td>\n",
       "      <td>75748</td>\n",
       "      <td>0.19</td>\n",
       "      <td>0</td>\n",
       "      <td>6</td>\n",
       "      <td>6</td>\n",
       "      <td>0</td>\n",
       "      <td>25500</td>\n",
       "      <td>25500</td>\n",
       "      <td>1</td>\n",
       "      <td>204219.01</td>\n",
       "      <td>1.57</td>\n",
       "      <td>0.89</td>\n",
       "      <td>3.32</td>\n",
       "      <td>18.52</td>\n",
       "      <td>50.99</td>\n",
       "      <td>0.27</td>\n",
       "      <td>2.55</td>\n",
       "      <td>13170.26</td>\n",
       "      <td>1217.995166</td>\n",
       "    </tr>\n",
       "    <tr>\n",
       "      <th>141</th>\n",
       "      <td>2015</td>\n",
       "      <td>435902</td>\n",
       "      <td>1.12</td>\n",
       "      <td>0</td>\n",
       "      <td>6</td>\n",
       "      <td>6</td>\n",
       "      <td>0</td>\n",
       "      <td>25500</td>\n",
       "      <td>25500</td>\n",
       "      <td>1</td>\n",
       "      <td>204219.01</td>\n",
       "      <td>1.57</td>\n",
       "      <td>0.89</td>\n",
       "      <td>3.32</td>\n",
       "      <td>18.52</td>\n",
       "      <td>50.99</td>\n",
       "      <td>0.27</td>\n",
       "      <td>2.55</td>\n",
       "      <td>13170.26</td>\n",
       "      <td>1119.898826</td>\n",
       "    </tr>\n",
       "    <tr>\n",
       "      <th>63</th>\n",
       "      <td>2017</td>\n",
       "      <td>154238</td>\n",
       "      <td>0.39</td>\n",
       "      <td>0</td>\n",
       "      <td>6</td>\n",
       "      <td>6</td>\n",
       "      <td>0</td>\n",
       "      <td>25500</td>\n",
       "      <td>25500</td>\n",
       "      <td>1</td>\n",
       "      <td>185496.29</td>\n",
       "      <td>1.75</td>\n",
       "      <td>0.80</td>\n",
       "      <td>3.37</td>\n",
       "      <td>18.76</td>\n",
       "      <td>48.95</td>\n",
       "      <td>0.27</td>\n",
       "      <td>2.31</td>\n",
       "      <td>13239.44</td>\n",
       "      <td>1119.898826</td>\n",
       "    </tr>\n",
       "    <tr>\n",
       "      <th>50</th>\n",
       "      <td>2016</td>\n",
       "      <td>32309</td>\n",
       "      <td>0.08</td>\n",
       "      <td>0</td>\n",
       "      <td>6</td>\n",
       "      <td>6</td>\n",
       "      <td>0</td>\n",
       "      <td>25500</td>\n",
       "      <td>25500</td>\n",
       "      <td>1</td>\n",
       "      <td>216141.50</td>\n",
       "      <td>1.61</td>\n",
       "      <td>0.85</td>\n",
       "      <td>3.34</td>\n",
       "      <td>18.83</td>\n",
       "      <td>49.27</td>\n",
       "      <td>0.25</td>\n",
       "      <td>2.41</td>\n",
       "      <td>12477.10</td>\n",
       "      <td>866.078245</td>\n",
       "    </tr>\n",
       "    <tr>\n",
       "      <th>82</th>\n",
       "      <td>2017</td>\n",
       "      <td>438011</td>\n",
       "      <td>1.11</td>\n",
       "      <td>0</td>\n",
       "      <td>6</td>\n",
       "      <td>6</td>\n",
       "      <td>0</td>\n",
       "      <td>25500</td>\n",
       "      <td>25500</td>\n",
       "      <td>1</td>\n",
       "      <td>185496.29</td>\n",
       "      <td>1.75</td>\n",
       "      <td>0.80</td>\n",
       "      <td>3.37</td>\n",
       "      <td>18.76</td>\n",
       "      <td>48.95</td>\n",
       "      <td>0.27</td>\n",
       "      <td>2.31</td>\n",
       "      <td>13239.44</td>\n",
       "      <td>1119.898826</td>\n",
       "    </tr>\n",
       "  </tbody>\n",
       "</table>\n",
       "</div>"
      ],
      "text/plain": [
       "     year  population  pop_percentage  county_count  state_count  \\\n",
       "165  2015       75748            0.19             0            6   \n",
       "141  2015      435902            1.12             0            6   \n",
       "63   2017      154238            0.39             0            6   \n",
       "50   2016       32309            0.08             0            6   \n",
       "82   2017      438011            1.11             0            6   \n",
       "\n",
       "     total_incentives  county_max  state_max  total_max  previous_evs  \\\n",
       "165                 6           0      25500      25500             1   \n",
       "141                 6           0      25500      25500             1   \n",
       "63                  6           0      25500      25500             1   \n",
       "50                  6           0      25500      25500             1   \n",
       "82                  6           0      25500      25500             1   \n",
       "\n",
       "     household_income  importance_of_gge  homeowner  education  \\\n",
       "165         204219.01               1.57       0.89       3.32   \n",
       "141         204219.01               1.57       0.89       3.32   \n",
       "63          185496.29               1.75       0.80       3.37   \n",
       "50          216141.50               1.61       0.85       3.34   \n",
       "82          185496.29               1.75       0.80       3.37   \n",
       "\n",
       "     commute_distance    age  gender  number_of_vehicles  annual_miles  \\\n",
       "165             18.52  50.99    0.27                2.55      13170.26   \n",
       "141             18.52  50.99    0.27                2.55      13170.26   \n",
       "63              18.76  48.95    0.27                2.31      13239.44   \n",
       "50              18.83  49.27    0.25                2.41      12477.10   \n",
       "82              18.76  48.95    0.27                2.31      13239.44   \n",
       "\n",
       "     number_sales  \n",
       "165   1217.995166  \n",
       "141   1119.898826  \n",
       "63    1119.898826  \n",
       "50     866.078245  \n",
       "82    1119.898826  "
      ]
     },
     "execution_count": 79,
     "metadata": {},
     "output_type": "execute_result"
    }
   ],
   "source": [
    "# Check best results in dataframe\n",
    "X_test.loc[:, ['number_sales']] = pred2\n",
    "X_test.head()"
   ]
  },
  {
   "cell_type": "code",
   "execution_count": 88,
   "metadata": {},
   "outputs": [
    {
     "name": "stdout",
     "output_type": "stream",
     "text": [
      "predict output for GradientBoostingRegressor: learning_rate=0.001, n_estimators=750\n",
      "The mean squared error (MSE) on test set: 223122.3760\n",
      "The best accuracy on training set: 1.000\n",
      "The best accuracy on test set: 0.921\n"
     ]
    }
   ],
   "source": [
    "# Testing parameters that give best results\n",
    "gbt = GradientBoostingRegressor(learning_rate=0.1, n_estimators=500)\n",
    "\n",
    "gbt = gbt.fit(X_train_scaled, y_train)\n",
    "print(\"predict output for GradientBoostingRegressor: learning_rate={}, n_estimators={}\".format(i, j))\n",
    "mse = mean_squared_error(y_test, gbt.predict(X_test_scaled))\n",
    "print(\"The mean squared error (MSE) on test set: {:.4f}\".format(mse))\n",
    "\n",
    "pred2 = gbt.predict(X_test_scaled)\n",
    "print(\"The best accuracy on training set: %.3f\" % gbt.score(X_train_scaled, y_train))\n",
    "print(\"The best accuracy on test set: %.3f\" % gbt.score(X_test_scaled, y_test))"
   ]
  },
  {
   "cell_type": "code",
   "execution_count": null,
   "metadata": {},
   "outputs": [],
   "source": []
  }
 ],
 "metadata": {
  "file_extension": ".py",
  "kernelspec": {
   "display_name": "mlenv",
   "language": "python",
   "name": "mlenv"
  },
  "language_info": {
   "codemirror_mode": {
    "name": "ipython",
    "version": 3
   },
   "file_extension": ".py",
   "mimetype": "text/x-python",
   "name": "python",
   "nbconvert_exporter": "python",
   "pygments_lexer": "ipython3",
   "version": "3.7.13"
  },
  "mimetype": "text/x-python",
  "name": "python",
  "npconvert_exporter": "python",
  "pygments_lexer": "ipython3",
  "version": 3
 },
 "nbformat": 4,
 "nbformat_minor": 4
}
